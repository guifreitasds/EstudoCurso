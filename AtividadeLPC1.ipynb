{
  "nbformat": 4,
  "nbformat_minor": 0,
  "metadata": {
    "colab": {
      "name": "AtividadeLPC1.ipynb",
      "provenance": [],
      "collapsed_sections": [],
      "authorship_tag": "ABX9TyOrOHqsIAL0dVGSRZSxT+iH",
      "include_colab_link": true
    },
    "kernelspec": {
      "name": "python3",
      "display_name": "Python 3"
    },
    "language_info": {
      "name": "python"
    }
  },
  "cells": [
    {
      "cell_type": "markdown",
      "metadata": {
        "id": "view-in-github",
        "colab_type": "text"
      },
      "source": [
        "<a href=\"https://colab.research.google.com/github/guifreitasds/EstudoCurso/blob/main/AtividadeLPC1.ipynb\" target=\"_parent\"><img src=\"https://colab.research.google.com/assets/colab-badge.svg\" alt=\"Open In Colab\"/></a>"
      ]
    },
    {
      "cell_type": "code",
      "execution_count": null,
      "metadata": {
        "colab": {
          "base_uri": "https://localhost:8080/"
        },
        "id": "-Wz_51v60zkY",
        "outputId": "bd2a1bd0-cae9-4701-d969-7ed4e6299336"
      },
      "outputs": [
        {
          "output_type": "stream",
          "name": "stdout",
          "text": [
            "IMC = 22.857142857142858\n"
          ]
        }
      ],
      "source": [
        "# ETE PORTO DIGITAL\n",
        "# EXEMPLO VETOR\n",
        "# GUILHERME FREITAS\n",
        "# Prof:  CLOVES ROCHA\n",
        "\n",
        "imc = [1.75,\n",
        "       70,\n",
        "       102]\n",
        "print(f'IMC = {(imc[1]/(imc[0] * imc[0]))}')\n"
      ]
    },
    {
      "cell_type": "code",
      "source": [
        "notas = [10,\n",
        "         9,\n",
        "         8,\n",
        "         7]\n",
        "print(f'Média = {(sum(notas))/len(notas))}')"
      ],
      "metadata": {
        "colab": {
          "base_uri": "https://localhost:8080/"
        },
        "id": "VVuTVXO82JtT",
        "outputId": "8c11396d-0924-4a48-8f40-fc3bbe4b1acc"
      },
      "execution_count": null,
      "outputs": [
        {
          "output_type": "stream",
          "name": "stdout",
          "text": [
            "Média = 8.5\n"
          ]
        }
      ]
    },
    {
      "cell_type": "code",
      "source": [
        "v1 = ['Bom dia', 'Boa tarde', 'Boa noite']\n",
        "v2 = ['Cloves', 'João', 'Pedro']\n",
        "v3 = ['Como vai', 'Que horas são', 'Vamos programar? ']\n",
        "\n",
        "m1 = [v1, v2, v3]\n",
        "\n",
        "print(m1)"
      ],
      "metadata": {
        "colab": {
          "base_uri": "https://localhost:8080/"
        },
        "id": "JqsBNMvh8gge",
        "outputId": "a5072b17-1eaa-4eef-938f-7f5f038ee409"
      },
      "execution_count": null,
      "outputs": [
        {
          "output_type": "stream",
          "name": "stdout",
          "text": [
            "[['Bom dia', 'Boa tarde', 'Boa noite'], ['Cloves', 'João', 'Pedro'], ['Como vai', 'Que horas são', 'Vamos programar? ']]\n"
          ]
        }
      ]
    }
  ]
}