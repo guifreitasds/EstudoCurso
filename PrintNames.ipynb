{
  "nbformat": 4,
  "nbformat_minor": 0,
  "metadata": {
    "colab": {
      "name": "PrintNames.ipynb",
      "provenance": [],
      "toc_visible": true,
      "authorship_tag": "ABX9TyNmN2O7oCwjFEgcTa39lwST",
      "include_colab_link": true
    },
    "kernelspec": {
      "name": "python3",
      "display_name": "Python 3"
    },
    "language_info": {
      "name": "python"
    }
  },
  "cells": [
    {
      "cell_type": "markdown",
      "metadata": {
        "id": "view-in-github",
        "colab_type": "text"
      },
      "source": [
        "<a href=\"https://colab.research.google.com/github/guifreitasds/EstudoCurso/blob/main/PrintNames.ipynb\" target=\"_parent\"><img src=\"https://colab.research.google.com/assets/colab-badge.svg\" alt=\"Open In Colab\"/></a>"
      ]
    },
    {
      "cell_type": "code",
      "execution_count": 2,
      "metadata": {
        "id": "7ZlDFvnwXt-p",
        "colab": {
          "base_uri": "https://localhost:8080/"
        },
        "outputId": "d1a68747-0fa8-4b9a-b979-58cea78da52e"
      },
      "outputs": [
        {
          "output_type": "stream",
          "name": "stdout",
          "text": [
            "Guilherme\n",
            "João\n",
            "Filipe\n"
          ]
        }
      ],
      "source": [
        "# ETE PORTO DIGITAL\n",
        "# PROFESSOR CLOVES ROCHA\n",
        "# ESTUDANTE - GUILHERME FREITAS\n",
        "\n",
        "\n",
        "nomes = ['Guilherme', 'João', 'Filipe']\n",
        "for n in nomes:\n",
        " print(n)"
      ]
    }
  ]
}