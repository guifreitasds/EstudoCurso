{
  "nbformat": 4,
  "nbformat_minor": 0,
  "metadata": {
    "colab": {
      "name": "Untitled0.ipynb",
      "provenance": [],
      "authorship_tag": "ABX9TyNe6PifbFcNSoQtBks+Hwio",
      "include_colab_link": true
    },
    "kernelspec": {
      "name": "python3",
      "display_name": "Python 3"
    },
    "language_info": {
      "name": "python"
    }
  },
  "cells": [
    {
      "cell_type": "markdown",
      "metadata": {
        "id": "view-in-github",
        "colab_type": "text"
      },
      "source": [
        "<a href=\"https://colab.research.google.com/github/guifreitasds/EstudoCurso/blob/main/DiscoverTypeNumber.ipynb\" target=\"_parent\"><img src=\"https://colab.research.google.com/assets/colab-badge.svg\" alt=\"Open In Colab\"/></a>"
      ]
    },
    {
      "cell_type": "code",
      "execution_count": 4,
      "metadata": {
        "colab": {
          "base_uri": "https://localhost:8080/"
        },
        "id": "zOeDWHPeemzN",
        "outputId": "1f024584-aa0f-4818-b02c-aab7e0717bdd"
      },
      "outputs": [
        {
          "output_type": "stream",
          "name": "stdout",
          "text": [
            "Digite um número: 0\n",
            "Esse número é neutro\n"
          ]
        }
      ],
      "source": [
        "# ETE PORTO DIGITAL\n",
        "# PROF CLOVES ROCHA\n",
        "# GUILHERME FREITAS\n",
        "\n",
        "num = float(input(\"Digite um número: \"))\n",
        "\n",
        "if num > 0:\n",
        "  print('Esse número é positivo')\n",
        "\n",
        "elif num == 0:\n",
        "  print('Esse número é neutro')\n",
        "\n",
        "else:\n",
        "  print('Esse número é negativo')"
      ]
    }
  ]
}