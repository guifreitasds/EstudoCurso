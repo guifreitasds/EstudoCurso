{
  "nbformat": 4,
  "nbformat_minor": 0,
  "metadata": {
    "colab": {
      "name": "RecursividadeLPC.ipynb",
      "provenance": [],
      "authorship_tag": "ABX9TyMwdkTTz0mBKmqTL2YO95vY",
      "include_colab_link": true
    },
    "kernelspec": {
      "name": "python3",
      "display_name": "Python 3"
    },
    "language_info": {
      "name": "python"
    }
  },
  "cells": [
    {
      "cell_type": "markdown",
      "metadata": {
        "id": "view-in-github",
        "colab_type": "text"
      },
      "source": [
        "<a href=\"https://colab.research.google.com/github/guifreitasds/EstudoCurso/blob/main/RecursividadeLPC.ipynb\" target=\"_parent\"><img src=\"https://colab.research.google.com/assets/colab-badge.svg\" alt=\"Open In Colab\"/></a>"
      ]
    },
    {
      "cell_type": "code",
      "source": [
        "def contagemRegressiva(ini, fim, raz):\n",
        "  for n in range(ini, fim, raz):\n",
        "    print(n)\n",
        "    if n == 1:\n",
        "      print('Decolar!')\n",
        "\n",
        "inicio = int(input('Digite o inicio da contagem: '))\n",
        "fim = int(input('Digite o fim da contagem: '))\n",
        "razao = int(input('Digite a razão da contagem: '))\n",
        "\n",
        "contagemRegressiva(inicio, fim, razao)"
      ],
      "metadata": {
        "colab": {
          "base_uri": "https://localhost:8080/"
        },
        "id": "T63Za8dYGi7N",
        "outputId": "ae08960d-35d2-46bd-d4d1-a0beb6090a95"
      },
      "execution_count": 39,
      "outputs": [
        {
          "output_type": "stream",
          "name": "stdout",
          "text": [
            "Digite o inicio da contagem: 30\n",
            "Digite o fim da contagem: 0\n",
            "Digite a razão da contagem: -1\n",
            "30\n",
            "29\n",
            "28\n",
            "27\n",
            "26\n",
            "25\n",
            "24\n",
            "23\n",
            "22\n",
            "21\n",
            "20\n",
            "19\n",
            "18\n",
            "17\n",
            "16\n",
            "15\n",
            "14\n",
            "13\n",
            "12\n",
            "11\n",
            "10\n",
            "9\n",
            "8\n",
            "7\n",
            "6\n",
            "5\n",
            "4\n",
            "3\n",
            "2\n",
            "1\n",
            "Decolar\n"
          ]
        }
      ]
    },
    {
      "cell_type": "code",
      "source": [
        "def contRegressiva(n=5):\n",
        "  while(n):\n",
        "    print(n)\n",
        "    n = n - 1\n",
        "\n",
        "contRegressiva(5)\n",
        "print('Decolar!')"
      ],
      "metadata": {
        "colab": {
          "base_uri": "https://localhost:8080/"
        },
        "id": "opkbd0vaG0Sj",
        "outputId": "13f15fd8-9086-475e-d24f-2dd60860c13d"
      },
      "execution_count": 8,
      "outputs": [
        {
          "output_type": "stream",
          "name": "stdout",
          "text": [
            "5\n",
            "4\n",
            "3\n",
            "2\n",
            "1\n",
            "Decolar!\n"
          ]
        }
      ]
    }
  ]
}