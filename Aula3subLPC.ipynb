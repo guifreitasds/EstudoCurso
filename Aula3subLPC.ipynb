{
  "nbformat": 4,
  "nbformat_minor": 0,
  "metadata": {
    "colab": {
      "name": "Aula3subLPC.ipynb",
      "provenance": [],
      "collapsed_sections": [],
      "toc_visible": true,
      "authorship_tag": "ABX9TyPrVQYQtYdUPxpfJlBSxnzv",
      "include_colab_link": true
    },
    "kernelspec": {
      "name": "python3",
      "display_name": "Python 3"
    },
    "language_info": {
      "name": "python"
    }
  },
  "cells": [
    {
      "cell_type": "markdown",
      "metadata": {
        "id": "view-in-github",
        "colab_type": "text"
      },
      "source": [
        "<a href=\"https://colab.research.google.com/github/guifreitasds/EstudoCurso/blob/main/Aula3subLPC.ipynb\" target=\"_parent\"><img src=\"https://colab.research.google.com/assets/colab-badge.svg\" alt=\"Open In Colab\"/></a>"
      ]
    },
    {
      "cell_type": "code",
      "execution_count": 3,
      "metadata": {
        "colab": {
          "base_uri": "https://localhost:8080/"
        },
        "id": "zOQCZN4pBLcc",
        "outputId": "7b9ecf2e-a184-4de8-f7ba-ea6c3134245d"
      },
      "outputs": [
        {
          "output_type": "stream",
          "name": "stdout",
          "text": [
            "Hello, ETE Porto Digital\n"
          ]
        }
      ],
      "source": [
        "# ETE Porto Digital\n",
        "# Disciplina: LPC1\n",
        "# Professor: Cloves\n",
        "# Estudante: Guilherme F.\n",
        "\n",
        "\n",
        "print(\"Hello, ETE Porto Digital\")"
      ]
    }
  ]
}